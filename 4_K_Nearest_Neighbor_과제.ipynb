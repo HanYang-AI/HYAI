{
  "nbformat": 4,
  "nbformat_minor": 0,
  "metadata": {
    "colab": {
      "provenance": [],
      "authorship_tag": "ABX9TyM6A047rWjXuhyGLhUVc6Pg",
      "include_colab_link": true
    },
    "kernelspec": {
      "name": "python3",
      "display_name": "Python 3"
    },
    "language_info": {
      "name": "python"
    }
  },
  "cells": [
    {
      "cell_type": "markdown",
      "metadata": {
        "id": "view-in-github",
        "colab_type": "text"
      },
      "source": [
        "<a href=\"https://colab.research.google.com/github/HanYang-AI/HYAI/blob/main/4_K_Nearest_Neighbor_%EA%B3%BC%EC%A0%9C.ipynb\" target=\"_parent\"><img src=\"https://colab.research.google.com/assets/colab-badge.svg\" alt=\"Open In Colab\"/></a>"
      ]
    },
    {
      "cell_type": "code",
      "source": [
        "import pandas as pd\n",
        "import numpy as np\n",
        "import matplotlib.pyplot as plt\n",
        "\n",
        "df = pd.read_csv(\"/content/NBA Hall of Famers 2021.csv\")"
      ],
      "metadata": {
        "id": "QAsxl2VMDzir"
      },
      "execution_count": 2,
      "outputs": []
    },
    {
      "cell_type": "code",
      "source": [
        "new_df = df"
      ],
      "metadata": {
        "id": "uyLtQQTxhxzQ"
      },
      "execution_count": 3,
      "outputs": []
    },
    {
      "cell_type": "code",
      "source": [
        "new_df = df.loc[df['weight'] < 200]"
      ],
      "metadata": {
        "id": "fTUPpT_Ae1Wj"
      },
      "execution_count": 4,
      "outputs": []
    },
    {
      "cell_type": "code",
      "source": [
        "x=new_df.loc[:, [\"height\", \"weight\"]]\n",
        "y=new_df.loc[:, \"position\"]\n",
        "\n",
        "x = np.array(x)\n",
        "y = np.array(y)"
      ],
      "metadata": {
        "id": "RWvqxTYzEEr4"
      },
      "execution_count": 5,
      "outputs": []
    },
    {
      "cell_type": "code",
      "source": [
        "import matplotlib.pyplot as plt\n",
        "\n",
        "for val, inp in enumerate(x):\n",
        "  if y[val] == 'G':\n",
        "    plt.scatter(inp[0], inp[1], c='r')\n",
        "  elif y[val] == 'C':\n",
        "    plt.scatter(inp[0], inp[1], c='g')\n",
        "  else:\n",
        "    plt.scatter(inp[0], inp[1], c='b')"
      ],
      "metadata": {
        "colab": {
          "base_uri": "https://localhost:8080/",
          "height": 267
        },
        "id": "n-drSPt3FAgS",
        "outputId": "5802c4e2-d9cd-4366-d0e9-2850b123d8cc"
      },
      "execution_count": 6,
      "outputs": [
        {
          "output_type": "display_data",
          "data": {
            "text/plain": [
              "<Figure size 432x288 with 1 Axes>"
            ],
            "image/png": "[encoded data removed]"
          },
          "metadata": {
            "needs_background": "light"
          }
        }
      ]
    },
    {
      "cell_type": "code",
      "source": [
        "from sklearn.model_selection import train_test_split"
      ],
      "metadata": {
        "id": "-2niFCl_ESD3"
      },
      "execution_count": 7,
      "outputs": []
    },
    {
      "cell_type": "code",
      "source": [
        "x_train, x_validation, y_train, y_validation = train_test_split(x, y, test_size=0.33, random_state=42)"
      ],
      "metadata": {
        "id": "pazUOvtDEdQI"
      },
      "execution_count": 8,
      "outputs": []
    },
    {
      "cell_type": "code",
      "source": [
        "import math\n",
        "\n",
        "def get_distance(point1, point2):\n",
        "    distance = 0\n",
        "    for i in range(len(point1)):\n",
        "        distance += (point1[i] - point2[i])**2\n",
        "    return math.sqrt(distance)"
      ],
      "metadata": {
        "id": "4yMMoN-jEgsz"
      },
      "execution_count": 9,
      "outputs": []
    },
    {
      "cell_type": "code",
      "source": [
        "import numpy as np\n",
        "\n",
        "def knn(new, x, y, k):\n",
        "    neighbor_distance = []\n",
        "    for i in x:\n",
        "        neighbor_distance.append(get_distance(new, i))\n",
        "    \n",
        "    sorted = np.sort(neighbor_distance)\n",
        "    sorted_idx = np.argsort(neighbor_distance)\n",
        "\n",
        "    y_sorted = [y[i] for i in sorted_idx]\n",
        "\n",
        "    return max(y_sorted[:k], key=y_sorted[:k].count)"
      ],
      "metadata": {
        "id": "DzO0ha3JEl7l"
      },
      "execution_count": 10,
      "outputs": []
    },
    {
      "cell_type": "code",
      "source": [
        "def gridsearch(k_parameters):\n",
        "    total = 0\n",
        "    best = 0\n",
        "    idx = 0\n",
        "    for i in k_parameters:\n",
        "        for j in range(len(x_validation)):\n",
        "            total += y_validation[j] == knn(x_validation[j], x_train, y_train, i)\n",
        "        if total/len(x_validation) > best:\n",
        "            best = total/len(x_validation)\n",
        "            idx = i\n",
        "        total = 0\n",
        "\n",
        "    print(f\"k가 {idx}일 때 {best} 의 정확도로 제일 높습니다.\")"
      ],
      "metadata": {
        "id": "bnVqyDvxEo9H"
      },
      "execution_count": 11,
      "outputs": []
    },
    {
      "cell_type": "code",
      "source": [
        "params = [i for i in range(1, 200)]\n",
        "gridsearch(params)"
      ],
      "metadata": {
        "colab": {
          "base_uri": "https://localhost:8080/"
        },
        "id": "ST6vdqOHEs5S",
        "outputId": "12434a24-c2ed-488e-deb3-c58fb7d43eba"
      },
      "execution_count": 12,
      "outputs": [
        {
          "output_type": "stream",
          "name": "stdout",
          "text": [
            "k가 62일 때 0.7448275862068966 의 정확도로 제일 높습니다.\n"
          ]
        }
      ]
    },
    {
      "cell_type": "code",
      "source": [
        "import random\n",
        "x_sample = []\n",
        "for i in range(4000):\n",
        "    x_sample.append([random.uniform(170, 230), random.uniform(50, 150)])"
      ],
      "metadata": {
        "id": "CMUsrMZ5ap32"
      },
      "execution_count": 13,
      "outputs": []
    },
    {
      "cell_type": "code",
      "source": [
        "import matplotlib.pyplot as plt\n",
        "\n",
        "for i in range(len(x_sample)):\n",
        "    if knn(x_sample[i], x_train, y_train,  62) == 'C':\n",
        "        plt.scatter(x_sample[i][0], x_sample[i][1], s=100, c='r')\n",
        "    elif knn(x_sample[i], x_train, y_train,  62) == 'F':\n",
        "        plt.scatter(x_sample[i][0], x_sample[i][1], s=100, c='g')\n",
        "    else:\n",
        "        plt.scatter(x_sample[i][0], x_sample[i][1], s=100, c='b')"
      ],
      "metadata": {
        "colab": {
          "base_uri": "https://localhost:8080/",
          "height": 265
        },
        "id": "yJwVfG-Pa0TN",
        "outputId": "baba6a8b-8e3e-4924-a495-9d1845ef4a92"
      },
      "execution_count": 16,
      "outputs": [
        {
          "output_type": "display_data",
          "data": {
            "text/plain": [
              "<Figure size 432x288 with 1 Axes>"
            ],
            "image/png": "[encoded data removed]"
          },
          "metadata": {
            "needs_background": "light"
          }
        }
      ]
    },
    {
      "cell_type": "code",
      "source": [
        "a = float(input('키를 입력해주세요: '))\n",
        "b = float(input('몸무게를 입력해주세요: '))\n",
        "print('당신에게 추천하는 포지션은', knn([a, b], x, y, 20), '입니다')"
      ],
      "metadata": {
        "colab": {
          "base_uri": "https://localhost:8080/"
        },
        "id": "BjpFP3jIeyYN",
        "outputId": "f7a0ab48-abcd-487b-a79a-b59ce0ec6e9f"
      },
      "execution_count": 17,
      "outputs": [
        {
          "output_type": "stream",
          "name": "stdout",
          "text": [
            "키를 입력해주세요: 210\n",
            "몸무게를 입력해주세요: 120\n",
            "당신에게 추천하는 포지션은 C 입니다\n"
          ]
        }
      ]
    },
    {
      "cell_type": "code",
      "source": [],
      "metadata": {
        "id": "UhsMW0WFiScL"
      },
      "execution_count": null,
      "outputs": []
    }
  ]
}