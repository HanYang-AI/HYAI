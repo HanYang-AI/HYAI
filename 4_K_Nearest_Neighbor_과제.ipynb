{
  "nbformat": 4,
  "nbformat_minor": 0,
  "metadata": {
    "colab": {
      "provenance": [],
      "authorship_tag": "ABX9TyP8nUyqsqDn7r5PqNoY6bU8",
      "include_colab_link": true
    },
    "kernelspec": {
      "name": "python3",
      "display_name": "Python 3"
    },
    "language_info": {
      "name": "python"
    }
  },
  "cells": [
    {
      "cell_type": "markdown",
      "metadata": {
        "id": "view-in-github",
        "colab_type": "text"
      },
      "source": [
        "<a href=\"https://colab.research.google.com/github/HanYang-AI/HYAI/blob/main/4_K_Nearest_Neighbor_%EA%B3%BC%EC%A0%9C.ipynb\" target=\"_parent\"><img src=\"https://colab.research.google.com/assets/colab-badge.svg\" alt=\"Open In Colab\"/></a>"
      ]
    },
    {
      "cell_type": "code",
      "source": [
        "import pandas as pd\n",
        "import numpy as np\n",
        "import matplotlib.pyplot as plt\n",
        "\n",
        "df = pd.read_csv(\"/content/NBA Hall of Famers 2021.csv\")"
      ],
      "metadata": {
        "id": "QAsxl2VMDzir"
      },
      "execution_count": 79,
      "outputs": []
    },
    {
      "cell_type": "code",
      "source": [
        "x1 = df.loc[df.position == \"C\"]\n",
        "x2 = df.loc[df.position == \"G\"]"
      ],
      "metadata": {
        "id": "mGUDK59hD5Lg"
      },
      "execution_count": 80,
      "outputs": []
    },
    {
      "cell_type": "code",
      "source": [
        "new_df = pd.concat([x1, x2], axis=0)"
      ],
      "metadata": {
        "id": "HzPtJJguD6fW"
      },
      "execution_count": 81,
      "outputs": []
    },
    {
      "cell_type": "code",
      "source": [
        "x=new_df.loc[:, [\"height\", \"weight\"]]\n",
        "y=new_df.loc[:, \"position\"]\n",
        "\n",
        "x = np.array(x)\n",
        "y = np.array(y)"
      ],
      "metadata": {
        "id": "RWvqxTYzEEr4"
      },
      "execution_count": 82,
      "outputs": []
    },
    {
      "cell_type": "code",
      "source": [
        "from sklearn.model_selection import train_test_split\n",
        "x_train, x_validation, y_train, y_validation = train_test_split(x, y, test_size=0.33, random_state=42)"
      ],
      "metadata": {
        "id": "3R_YSR54XD7N"
      },
      "execution_count": null,
      "outputs": []
    },
    {
      "cell_type": "code",
      "source": [
        "import matplotlib.pyplot as plt\n",
        "\n",
        "for val, inp in enumerate(x):\n",
        "  if y[val] == 'G':\n",
        "    plt.scatter(inp[0], inp[1], s=100, c='r')\n",
        "  else:\n",
        "    plt.scatter(inp[0], inp[1], s=100, c='b')"
      ],
      "metadata": {
        "colab": {
          "base_uri": "https://localhost:8080/",
          "height": 267
        },
        "id": "n-drSPt3FAgS",
        "outputId": "98339f0a-5f3a-468f-8525-e31f439b8954"
      },
      "execution_count": 83,
      "outputs": [
        {
          "output_type": "display_data",
          "data": {
            "text/plain": [
              "<Figure size 432x288 with 1 Axes>"
            ],
            "image/png": "[encoded data removed]"
          },
          "metadata": {
            "needs_background": "light"
          }
        }
      ]
    },
    {
      "cell_type": "code",
      "source": [
        "from sklearn.model_selection import train_test_split"
      ],
      "metadata": {
        "id": "-2niFCl_ESD3"
      },
      "execution_count": 84,
      "outputs": []
    },
    {
      "cell_type": "code",
      "source": [
        "x_train, x_validation, y_train, y_validation = train_test_split(x, y, test_size=0.33, random_state=42)"
      ],
      "metadata": {
        "id": "pazUOvtDEdQI"
      },
      "execution_count": 85,
      "outputs": []
    },
    {
      "cell_type": "code",
      "source": [
        "import math\n",
        "\n",
        "def get_distance(point1, point2):\n",
        "    distance = 0\n",
        "    for i in range(len(point1)):\n",
        "        distance += (point1[i] - point2[i])**2\n",
        "    return math.sqrt(distance)"
      ],
      "metadata": {
        "id": "4yMMoN-jEgsz"
      },
      "execution_count": 71,
      "outputs": []
    },
    {
      "cell_type": "code",
      "source": [
        "import numpy as np\n",
        "\n",
        "def knn(new, x, y, k):\n",
        "    neighbor_distance = []\n",
        "    for i in x:\n",
        "        neighbor_distance.append(get_distance(new, i))\n",
        "    \n",
        "    sorted = np.sort(neighbor_distance)\n",
        "    sorted_idx = np.argsort(neighbor_distance)\n",
        "\n",
        "    y_sorted = [y[i] for i in sorted_idx]\n",
        "\n",
        "    return max(y_sorted[:k], key=y_sorted[:k].count)"
      ],
      "metadata": {
        "id": "DzO0ha3JEl7l"
      },
      "execution_count": 72,
      "outputs": []
    },
    {
      "cell_type": "code",
      "source": [
        "def gridsearch(k_parameters):\n",
        "    total = 0\n",
        "    best = 0\n",
        "    idx = 0\n",
        "    for i in k_parameters:\n",
        "        for j in range(len(x_validation)):\n",
        "            total += y_validation[j] == knn(x_validation[j], x_train, y_train, i)\n",
        "        if total/len(x_validation) > best:\n",
        "            best = total/len(x_validation)\n",
        "            idx = i\n",
        "        total = 0\n",
        "\n",
        "    print(f\"k가 {idx}일 때 {best} 의 정확도로 제일 높습니다.\")"
      ],
      "metadata": {
        "id": "bnVqyDvxEo9H"
      },
      "execution_count": 73,
      "outputs": []
    },
    {
      "cell_type": "code",
      "source": [
        "params = [i for i in range(1, 200)]\n",
        "gridsearch(params)"
      ],
      "metadata": {
        "colab": {
          "base_uri": "https://localhost:8080/"
        },
        "id": "ST6vdqOHEs5S",
        "outputId": "f1962320-c52a-4a99-e06b-0db3aa67e537"
      },
      "execution_count": 74,
      "outputs": [
        {
          "output_type": "stream",
          "name": "stdout",
          "text": [
            "k가 3일 때 0.9647058823529412 의 정확도로 제일 높습니다.\n"
          ]
        }
      ]
    },
    {
      "cell_type": "code",
      "source": [
        "knn([150, 30], x, y, 3)"
      ],
      "metadata": {
        "colab": {
          "base_uri": "https://localhost:8080/",
          "height": 36
        },
        "id": "GQeYzh74E4qC",
        "outputId": "122ce20a-6844-4189-b396-b7078ddc02a5"
      },
      "execution_count": 78,
      "outputs": [
        {
          "output_type": "execute_result",
          "data": {
            "text/plain": [
              "'G'"
            ],
            "application/vnd.google.colaboratory.intrinsic+json": {
              "type": "string"
            }
          },
          "metadata": {},
          "execution_count": 78
        }
      ]
    },
    {
      "cell_type": "code",
      "source": [],
      "metadata": {
        "id": "cdJ-JJpdFrxR"
      },
      "execution_count": null,
      "outputs": []
    }
  ]
}