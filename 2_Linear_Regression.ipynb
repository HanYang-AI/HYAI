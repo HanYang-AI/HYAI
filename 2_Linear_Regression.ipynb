{
  "nbformat": 4,
  "nbformat_minor": 0,
  "metadata": {
    "colab": {
      "provenance": [],
      "authorship_tag": "ABX9TyPOBPqaZyINsBpj3WmxQ0mk",
      "include_colab_link": true
    },
    "kernelspec": {
      "name": "python3",
      "display_name": "Python 3"
    },
    "language_info": {
      "name": "python"
    }
  },
  "cells": [
    {
      "cell_type": "markdown",
      "metadata": {
        "id": "view-in-github",
        "colab_type": "text"
      },
      "source": [
        "<a href=\"https://colab.research.google.com/github/HanYang-AI/HYAI/blob/main/2_Linear_Regression.ipynb\" target=\"_parent\"><img src=\"https://colab.research.google.com/assets/colab-badge.svg\" alt=\"Open In Colab\"/></a>"
      ]
    },
    {
      "cell_type": "markdown",
      "source": [
        "#Data generation (Random Noise Data)"
      ],
      "metadata": {
        "id": "9vTOZ3_Uw4RZ"
      }
    },
    {
      "cell_type": "code",
      "source": [
        "import numpy as np\n",
        "\n",
        "x = np.random.rand(100, 1)\n",
        "y = 1 + 2 * x + .1 * np.random.randn(100, 1) # 선형적 상관 관계를 가진 데이터 생성."
      ],
      "metadata": {
        "id": "UAHZZh5Lw7Se"
      },
      "execution_count": null,
      "outputs": []
    },
    {
      "cell_type": "markdown",
      "source": [
        "# Plot Data"
      ],
      "metadata": {
        "id": "W_fuUhmaHrZw"
      }
    },
    {
      "cell_type": "code",
      "source": [
        "import matplotlib.pyplot as plt\n",
        "\n",
        "fig, ax = plt.subplots()  \n",
        "ax.scatter(x, y, color='C0', label='train', alpha=0.5)\n",
        "ax.legend()\n",
        "ax.grid(True)\n",
        "fig.show()"
      ],
      "metadata": {
        "colab": {
          "base_uri": "https://localhost:8080/",
          "height": 265
        },
        "id": "OIktRlX7xHCM",
        "outputId": "f2856ee5-0298-476f-d3f0-ba395cac9132"
      },
      "execution_count": null,
      "outputs": [
        {
          "output_type": "display_data",
          "data": {
            "text/plain": [
              "<Figure size 432x288 with 1 Axes>"
            ],
            "image/png": "[encoded data removed]"
          },
          "metadata": {
            "needs_background": "light"
          }
        }
      ]
    },
    {
      "cell_type": "markdown",
      "source": [
        "# Random하게 W(기울기), b(절편) initializatoin\n",
        "## y = Wx + b"
      ],
      "metadata": {
        "id": "Ltaa4sLh9UYb"
      }
    },
    {
      "cell_type": "code",
      "source": [
        "fig = plt.figure(figsize=(6,6))\n",
        "\n",
        "w = np.random.randn(1)\n",
        "b = np.random.randn(1)\n",
        "\n",
        "plt.scatter(x, y)\n",
        "plt.plot(x,b+w*x,color='red')\n",
        "plt.show()"
      ],
      "metadata": {
        "colab": {
          "base_uri": "https://localhost:8080/",
          "height": 374
        },
        "id": "Lk9RnNXw640r",
        "outputId": "c5b3057d-4809-45f3-fd78-306155ecd2a8"
      },
      "execution_count": null,
      "outputs": [
        {
          "output_type": "display_data",
          "data": {
            "text/plain": [
              "<Figure size 432x432 with 1 Axes>"
            ],
            "image/png": "[encoded data removed]"
          },
          "metadata": {
            "needs_background": "light"
          }
        }
      ]
    },
    {
      "cell_type": "markdown",
      "source": [
        "# Linear Regression Implementation with numpy\n",
        "## y = wx + b"
      ],
      "metadata": {
        "id": "JZ-34YRJ_k_E"
      }
    },
    {
      "cell_type": "code",
      "source": [
        "np.random.seed(42)\n",
        "w = np.random.randn(1)\n",
        "b = np.random.randn(1)\n",
        "\n",
        "print('초기 랜덤한 기울기와 절편: ', w, b)\n",
        "\n",
        "# 하이퍼 파라미터 설정\n",
        "lr = 0.01\n",
        "n_epochs = 3000\n",
        "errer_loss = []\n",
        "\n",
        "\n",
        "# 평균제곱오차, 경사하강법, 편미분 함수 구현\n",
        "def mse(w, b, data):\n",
        "    yhat = w * x + b\n",
        "    error = (y - yhat)\n",
        "    loss = (error ** 2).mean()\n",
        "    return error, loss\n",
        "\n",
        "def gradient_descent(lr, x, x_grad):\n",
        "    result = x - lr * x_grad\n",
        "    return result\n",
        "\n",
        "\n",
        "def grad(error, data):\n",
        "    w_grad = -2 * (x * error).mean()\n",
        "    b_grad = -2 * error.mean()\n",
        "    return w_grad, b_grad\n",
        "\n",
        "\n",
        "# 학습 시작\n",
        "for epoch in range(n_epochs):\n",
        "\n",
        "    error, loss = mse(w, b, x)\n",
        "    \n",
        "    errer_loss.append(loss)\n",
        "\n",
        "    w_grad, b_grad = grad(error, x)\n",
        "\n",
        "    w = gradient_descent(lr, w, w_grad)\n",
        "    b = gradient_descent(lr, b, b_grad)\n",
        "\n",
        "\n",
        "print('학습 끝난 기울기와 절편: ', w, b)"
      ],
      "metadata": {
        "colab": {
          "base_uri": "https://localhost:8080/"
        },
        "id": "10e82OGGxJty",
        "outputId": "9cb13b99-fb04-4f74-92e6-4a91c46a3026"
      },
      "execution_count": null,
      "outputs": [
        {
          "output_type": "stream",
          "name": "stdout",
          "text": [
            "초기 랜덤한 기울기와 절편:  [0.49671415] [-0.1382643]\n",
            "학습 끝난 기울기와 절편:  [1.93135065] [1.04196865]\n"
          ]
        }
      ]
    },
    {
      "cell_type": "markdown",
      "source": [
        "# 학습 완료 된 파라미터(W, b) 시각화"
      ],
      "metadata": {
        "id": "U0zjxOWSBRHx"
      }
    },
    {
      "cell_type": "code",
      "source": [
        "fig = plt.figure(figsize=(6,6))\n",
        "\n",
        "plt.scatter(x, y)\n",
        "plt.plot(x,b+w*x,color='red')\n",
        "plt.show()"
      ],
      "metadata": {
        "colab": {
          "base_uri": "https://localhost:8080/",
          "height": 374
        },
        "id": "VVCdBYuNBHJP",
        "outputId": "25a9472f-a780-4bc7-95ad-aa856e5d3e15"
      },
      "execution_count": null,
      "outputs": [
        {
          "output_type": "display_data",
          "data": {
            "text/plain": [
              "<Figure size 432x432 with 1 Axes>"
            ],
            "image/png": "[encoded data removed]"
          },
          "metadata": {
            "needs_background": "light"
          }
        }
      ]
    },
    {
      "cell_type": "markdown",
      "source": [
        "# plot Loss (학습이 진행됨에 따른 Error 변화 시각화)"
      ],
      "metadata": {
        "id": "jVA72E7xHB0y"
      }
    },
    {
      "cell_type": "code",
      "source": [
        "plt.figure(figsize=(25,10))\n",
        "plt.yscale('log')\n",
        "plt.scatter([i for i in range (n_epochs)], errer_loss, s=5, c = 'r', label='loss')   "
      ],
      "metadata": {
        "colab": {
          "base_uri": "https://localhost:8080/",
          "height": 610
        },
        "id": "2X8MCPYkEe5c",
        "outputId": "8246c1a8-ecd8-4734-cbd0-ba49b3be20ba"
      },
      "execution_count": null,
      "outputs": [
        {
          "output_type": "execute_result",
          "data": {
            "text/plain": [
              "<matplotlib.collections.PathCollection at 0x7f8b38e38710>"
            ]
          },
          "metadata": {},
          "execution_count": 19
        },
        {
          "output_type": "display_data",
          "data": {
            "text/plain": [
              "<Figure size 1800x720 with 1 Axes>"
            ],
            "image/png": "[encoded data removed]"
          },
          "metadata": {
            "needs_background": "light"
          }
        }
      ]
    },
    {
      "cell_type": "markdown",
      "source": [
        "# Checking result\n",
        "## (Sklearn Framework로 학습한 결과와, 우리가 밑바닥부터 구현한 것과 결과 비교)"
      ],
      "metadata": {
        "id": "owo_e2D87-91"
      }
    },
    {
      "cell_type": "code",
      "source": [
        "# Sanity Check: do we get the same results as our gradient descent?\n",
        "from sklearn.linear_model import LinearRegression\n",
        "linr = LinearRegression()\n",
        "linr.fit(x, y)\n",
        "print('Sklearn 기울기와 절편: ', linr.coef_[0], linr.intercept_)\n",
        "print('직접 함수 구현 기울기 절편: ', w, b)"
      ],
      "metadata": {
        "colab": {
          "base_uri": "https://localhost:8080/"
        },
        "id": "5QpuK0_RHBVT",
        "outputId": "aaadf2f8-f80c-4401-bc30-b4d1ab30d36a"
      },
      "execution_count": null,
      "outputs": [
        {
          "output_type": "stream",
          "name": "stdout",
          "text": [
            "Sklearn 기울기와 절편:  [1.94913659] [1.03221213]\n",
            "직접 함수 구현 기울기 절편:  [1.93135065] [1.04196865]\n"
          ]
        }
      ]
    },
    {
      "cell_type": "markdown",
      "source": [
        "# Prediction"
      ],
      "metadata": {
        "id": "pxzLek-ECLDg"
      }
    },
    {
      "cell_type": "code",
      "source": [
        "fig = plt.figure(figsize=(6,6))\n",
        "\n",
        "plt.scatter(x, y)\n",
        "plt.plot(x,b+w*x,color='red')\n",
        "plt.show()"
      ],
      "metadata": {
        "colab": {
          "base_uri": "https://localhost:8080/",
          "height": 374
        },
        "id": "JkB16JBCCNaF",
        "outputId": "57173199-f552-49c2-8df2-bca860eb9d5f"
      },
      "execution_count": null,
      "outputs": [
        {
          "output_type": "display_data",
          "data": {
            "text/plain": [
              "<Figure size 432x432 with 1 Axes>"
            ],
            "image/png": "[encoded data removed]"
          },
          "metadata": {
            "needs_background": "light"
          }
        }
      ]
    },
    {
      "cell_type": "markdown",
      "source": [
        "# Model 예측"
      ],
      "metadata": {
        "id": "JqxumMAHCdGd"
      }
    },
    {
      "cell_type": "code",
      "source": [
        "def predict(x):\n",
        "  return w * x + b"
      ],
      "metadata": {
        "id": "XbG0AK3HCO_v"
      },
      "execution_count": null,
      "outputs": []
    },
    {
      "cell_type": "code",
      "source": [
        "predict(0.4)"
      ],
      "metadata": {
        "colab": {
          "base_uri": "https://localhost:8080/"
        },
        "id": "sC_QCgs0CV1P",
        "outputId": "ff5c3013-6c78-4b55-d0e1-bcf8068495aa"
      },
      "execution_count": null,
      "outputs": [
        {
          "output_type": "execute_result",
          "data": {
            "text/plain": [
              "array([1.81450891])"
            ]
          },
          "metadata": {},
          "execution_count": 26
        }
      ]
    }
  ]
}